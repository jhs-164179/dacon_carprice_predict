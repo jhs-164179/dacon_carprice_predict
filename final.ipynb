{
 "cells": [
  {
   "cell_type": "code",
   "execution_count": 28,
   "metadata": {},
   "outputs": [],
   "source": [
    "import numpy as np\n",
    "import pandas as pd\n",
    "import joblib\n",
    "import random\n",
    "import os\n",
    "import matplotlib.pyplot as plt\n",
    "import seaborn as sns\n",
    "from tqdm import tqdm\n",
    "from utils import manage_outlier, plot_boxplot, plot_violinplot\n",
    "\n",
    "from sklearn.metrics import mean_absolute_error as mae\n",
    "from sklearn.model_selection import KFold, train_test_split\n",
    "from sklearn.preprocessing import MinMaxScaler, OneHotEncoder\n",
    "from sklearn.decomposition import PCA\n",
    "\n",
    "from sklearn.ensemble import HistGradientBoostingRegressor as hgbr\n",
    "from sklearn.neural_network import MLPRegressor as mlp\n",
    "from lightgbm import LGBMRegressor as lgbm\n",
    "from xgboost import XGBRegressor as xgb\n",
    "from catboost import CatBoostRegressor as cat\n",
    "from sklego.linear_model import LADRegression as lad\n",
    "\n",
    "plt.rc('font', family='Malgun Gothic')\n",
    "\n",
    "import warnings\n",
    "warnings.filterwarnings('ignore')"
   ]
  },
  {
   "cell_type": "code",
   "execution_count": 29,
   "metadata": {},
   "outputs": [],
   "source": [
    "# seed 고정\n",
    "def seed_everything(seed):\n",
    "    random.seed(seed)\n",
    "    os.environ['PYTHONHASHSEED'] = str(seed)\n",
    "    np.random.seed(seed)\n",
    "\n",
    "seed_everything(42)"
   ]
  },
  {
   "cell_type": "code",
   "execution_count": 31,
   "metadata": {},
   "outputs": [],
   "source": [
    "train = pd.read_csv('./open/train.csv').drop('ID',axis=1)\n",
    "test = pd.read_csv('./open/test.csv').drop('ID',axis=1)\n",
    "submission = pd.read_csv('./open/sample_submission.csv')"
   ]
  },
  {
   "cell_type": "code",
   "execution_count": 32,
   "metadata": {},
   "outputs": [
    {
     "name": "stderr",
     "output_type": "stream",
     "text": [
      "100%|██████████| 57920/57920 [00:00<00:00, 1787213.09it/s]\n",
      "100%|██████████| 14480/14480 [00:00<00:00, 1814728.60it/s]\n",
      "100%|██████████| 57920/57920 [00:00<00:00, 2821960.20it/s]\n",
      "100%|██████████| 14480/14480 [00:00<00:00, 1293799.20it/s]\n"
     ]
    }
   ],
   "source": [
    "# 배기량을 기준으로 컬럼 추가\n",
    "lst = []\n",
    "for val in tqdm(train['배기량']):\n",
    "    if val > 2000:\n",
    "        lst.append('대형')\n",
    "    elif val > 1600:\n",
    "        lst.append('중형')\n",
    "    elif val > 1000:\n",
    "        lst.append('소형')\n",
    "    else:\n",
    "        lst.append('경형')\n",
    "\n",
    "train['배기량별 구분'] = lst\n",
    "\n",
    "lst = []\n",
    "for val in tqdm(test['배기량']):\n",
    "    if val > 2000:\n",
    "        lst.append('대형')\n",
    "    elif val > 1600:\n",
    "        lst.append('중형')\n",
    "    elif val > 1000:\n",
    "        lst.append('소형')\n",
    "    else:\n",
    "        lst.append('경형')\n",
    "\n",
    "test['배기량별 구분'] = lst\n",
    "\n",
    "train['연간 자동차세'] = 0\n",
    "train.loc[train['배기량별 구분']=='경형','연간 자동차세'] = train['배기량'] * 90\n",
    "train.loc[train['배기량별 구분']=='소형','연간 자동차세'] = train['배기량'] * 140\n",
    "train.loc[np.logical_or(train['배기량별 구분']=='중형', train['배기량별 구분']=='대형'),'연간 자동차세'] = train['배기량'] * 220\n",
    "\n",
    "test['연간 자동차세'] = 0\n",
    "test.loc[test['배기량별 구분']=='경형','연간 자동차세'] = test['배기량'] * 90\n",
    "test.loc[test['배기량별 구분']=='소형','연간 자동차세'] = test['배기량'] * 140\n",
    "test.loc[np.logical_or(test['배기량별 구분']=='중형', test['배기량별 구분']=='대형'),'연간 자동차세'] = test['배기량'] * 220\n",
    "\n",
    "train['지방교육세'] = train['연간 자동차세'] * .3\n",
    "test['지방교육세'] = test['연간 자동차세'] * .3\n",
    "\n",
    "train['총 자동차세'] = train['연간 자동차세'] + train['지방교육세']\n",
    "test['총 자동차세'] = test['연간 자동차세'] + test['지방교육세']\n",
    "\n",
    "lst = []\n",
    "for val in tqdm(train['배기량']):\n",
    "    if val > 3800:\n",
    "        lst.append('8기통')\n",
    "    elif val > 2900:\n",
    "        lst.append('6기통')\n",
    "    elif val > 1400:\n",
    "        lst.append('4기통')\n",
    "    else:\n",
    "        lst.append('3기통')\n",
    "\n",
    "train['배기량별 구분2'] = lst\n",
    "\n",
    "lst = []\n",
    "for val in tqdm(test['배기량']):\n",
    "    if val > 3800:\n",
    "        lst.append('8기통')\n",
    "    elif val > 2900:\n",
    "        lst.append('6기통')\n",
    "    elif val > 1400:\n",
    "        lst.append('4기통')\n",
    "    else:\n",
    "        lst.append('3기통')\n",
    "\n",
    "test['배기량별 구분2'] = lst\n",
    "\n",
    "# 생산년도, 출시년도를 기준으로 컬럼 추가 및 자동차세 할인 적용\n",
    "train['생산이후'] = 2023 - train['생산년도']\n",
    "train['모델출시이후'] = 2023 - train['모델출시년도']\n",
    "\n",
    "test['생산이후'] = 2023 - test['생산년도']\n",
    "test['모델출시이후'] = 2023 - test['모델출시년도']\n",
    "\n",
    "train['자동차세 할인 여부'] = 0\n",
    "train.loc[train['생산이후']>=3,'자동차세 할인 여부'] = 1\n",
    "\n",
    "test['자동차세 할인 여부'] = 0\n",
    "test.loc[test['생산이후']>=3,'자동차세 할인 여부'] = 1\n",
    "\n",
    "train['할인 후 자동차세'] = 0\n",
    "train.loc[train['생산이후']>=3,'할인 후 자동차세'] = (train['연간 자동차세'] + train['지방교육세'])*(1 - (train['생산이후']-2)*.05)\n",
    "train.loc[train['생산이후']>=13,'할인 후 자동차세'] = (train['연간 자동차세'] + train['지방교육세'])*.5\n",
    "\n",
    "test['할인 후 자동차세'] = 0\n",
    "test.loc[test['생산이후']>=3,'할인 후 자동차세'] = (test['연간 자동차세'] + test['지방교육세'])*(1 - (test['생산이후']-2)*.05)\n",
    "test.loc[test['생산이후']>=13,'할인 후 자동차세'] = (test['연간 자동차세'] + test['지방교육세'])*.5\n",
    "\n",
    "train['일반보증'] = 0\n",
    "train.loc[np.logical_or(train['생산이후']<=3, train['주행거리']<=60000),'일반보증'] = 1\n",
    "\n",
    "test['일반보증'] = 0\n",
    "test.loc[np.logical_or(test['생산이후']<=3, test['주행거리']<=60000),'일반보증'] = 1\n",
    "\n",
    "train['엔진보증'] = 0\n",
    "train.loc[np.logical_or(train['생산이후']<=5, train['주행거리']<=100000),'엔진보증'] = 1\n",
    "\n",
    "test['엔진보증'] = 0\n",
    "test.loc[np.logical_or(test['생산이후']<=5, test['주행거리']<=100000),'엔진보증'] = 1"
   ]
  },
  {
   "cell_type": "code",
   "execution_count": 33,
   "metadata": {},
   "outputs": [],
   "source": [
    "# 브랜드, 차량모델명, 판매도시, 판매구역 가격을 기준으로 랭크 인코딩\n",
    "brand_idx = train[['브랜드','가격']].groupby(['브랜드']).mean().sort_values('가격').index\n",
    "dict_brand = {}\n",
    "for i in range(len(brand_idx)):\n",
    "    key = brand_idx[i]\n",
    "    value = i\n",
    "    dict_brand[key] = value\n",
    "\n",
    "train['브랜드'] = train['브랜드'].map(dict_brand)\n",
    "test['브랜드'] = test['브랜드'].map(dict_brand)\n",
    "\n",
    "model_idx = train[['차량모델명','가격']].groupby(['차량모델명']).mean().sort_values('가격').index\n",
    "dict_model = {}\n",
    "for i in range(len(model_idx)):\n",
    "    key = model_idx[i]\n",
    "    value = i\n",
    "    dict_model[key] = value\n",
    "\n",
    "train['차량모델명'] = train['차량모델명'].map(dict_model)\n",
    "test['차량모델명'] = test['차량모델명'].map(dict_model)\n",
    "\n",
    "city_idx = train[['판매도시','가격']].groupby(['판매도시']).mean().sort_values('가격').index\n",
    "dict_city = {}\n",
    "for i in range(len(city_idx)):\n",
    "    key = city_idx[i]\n",
    "    value = i\n",
    "    dict_city[key] = value\n",
    "\n",
    "train['판매도시'] = train['판매도시'].map(dict_city)\n",
    "test['판매도시'] = test['판매도시'].map(dict_city)\n",
    "\n",
    "sector_idx = train[['판매구역','가격']].groupby(['판매구역']).mean().sort_values('가격').index\n",
    "dict_sector = {}\n",
    "for i in range(len(sector_idx)):\n",
    "    key = sector_idx[i]\n",
    "    value = i\n",
    "    dict_sector[key] = value\n",
    "\n",
    "train['판매구역'] = train['판매구역'].map(dict_sector)\n",
    "test['판매구역'] = test['판매구역'].map(dict_sector)"
   ]
  },
  {
   "cell_type": "code",
   "execution_count": 35,
   "metadata": {},
   "outputs": [],
   "source": [
    "# 범주형 컬럼 원-핫 인코딩\n",
    "encoder = OneHotEncoder(sparse=False)\n",
    "\n",
    "onehot = pd.DataFrame(encoder.fit_transform(train[['배기량별 구분','배기량별 구분2']]), columns=list(encoder.categories_[0])+ list(encoder.categories_[1]))\n",
    "train = pd.concat([train.drop(encoder.feature_names_in_, axis=1), onehot], axis=1)\n",
    "\n",
    "onehot2 = pd.DataFrame(encoder.transform(test[['배기량별 구분','배기량별 구분2']]), columns=list(encoder.categories_[0])+ list(encoder.categories_[1]))\n",
    "test = pd.concat([test.drop(encoder.feature_names_in_, axis=1), onehot2], axis=1)"
   ]
  },
  {
   "cell_type": "code",
   "execution_count": 36,
   "metadata": {},
   "outputs": [],
   "source": [
    "# 주행거리 컬럼의 이상치 제거\n",
    "Q3 = np.quantile(train['주행거리'],.75)\n",
    "Q1 = np.quantile(train['주행거리'],.25)\n",
    "IQR = Q3 - Q1\n",
    "maximum = Q3 + (1.5*IQR)\n",
    "train['주행거리_이상치'] = 0\n",
    "train.loc[train['주행거리']>maximum,'주행거리_이상치'] = 1\n",
    "\n",
    "train = train.drop(index=train[train['주행거리_이상치']==1].index).reset_index().drop(['index','주행거리_이상치'],axis=1)"
   ]
  },
  {
   "cell_type": "code",
   "execution_count": 10,
   "metadata": {},
   "outputs": [],
   "source": [
    "# 브랜드와 차량모델의 가치를 나타내는 컬럼 추가\n",
    "train['브랜드 파워'] = train['브랜드'] * train['차량모델명']\n",
    "test['브랜드 파워'] = test['브랜드'] * test['차량모델명']\n",
    "\n",
    "# 판매도시와 판매구역의 가치를 나타내는 컬럼 추가\n",
    "train['도시and구역'] = train['판매도시'] * train['판매구역']\n",
    "test['도시and구역'] = test['판매도시'] * test['판매구역']"
   ]
  },
  {
   "cell_type": "code",
   "execution_count": 37,
   "metadata": {},
   "outputs": [],
   "source": [
    "# 종속변수, 독립변수 분리\n",
    "train_x = train.drop('가격',axis=1)\n",
    "train_y = train['가격']\n",
    "test_x = test"
   ]
  },
  {
   "cell_type": "code",
   "execution_count": 38,
   "metadata": {},
   "outputs": [],
   "source": [
    "scaler2 = MinMaxScaler()\n",
    "train_minmax = pd.DataFrame(scaler2.fit_transform(train_x), columns=train_x.columns)\n",
    "test_minmax = pd.DataFrame(scaler2.transform(test_x), columns=test_x.columns)"
   ]
  },
  {
   "cell_type": "code",
   "execution_count": 39,
   "metadata": {},
   "outputs": [
    {
     "name": "stdout",
     "output_type": "stream",
     "text": [
      "minmax data pca_1:  [0.95006817]\n"
     ]
    }
   ],
   "source": [
    "# minmax data\n",
    "pca2 = PCA(n_components=1)\n",
    "pca2.fit(train_minmax[['생산년도','모델출시년도','생산이후','모델출시이후']])\n",
    "print('minmax data pca_1: ', pca2.explained_variance_ratio_)"
   ]
  },
  {
   "cell_type": "code",
   "execution_count": 40,
   "metadata": {},
   "outputs": [],
   "source": [
    "# minmax data\n",
    "train_minmax['생산출시PCA'] = pca2.transform(train_minmax[['생산년도','모델출시년도','생산이후','모델출시이후']])\n",
    "train_minmax.drop(['생산년도','모델출시년도','생산이후','모델출시이후'],axis=1,inplace=True)\n",
    "\n",
    "test_minmax['생산출시PCA'] = pca2.transform(test_minmax[['생산년도','모델출시년도','생산이후','모델출시이후']])\n",
    "test_minmax.drop(['생산년도','모델출시년도','생산이후','모델출시이후'],axis=1,inplace=True)"
   ]
  },
  {
   "cell_type": "code",
   "execution_count": 41,
   "metadata": {},
   "outputs": [
    {
     "name": "stdout",
     "output_type": "stream",
     "text": [
      "minmax data pca_1:  [0.98926083]\n"
     ]
    }
   ],
   "source": [
    "# minmax data\n",
    "pca4 = PCA(n_components=1)\n",
    "pca4.fit(train_minmax[['배기량','연간 자동차세','지방교육세','총 자동차세']])\n",
    "print('minmax data pca_1: ', pca4.explained_variance_ratio_)"
   ]
  },
  {
   "cell_type": "code",
   "execution_count": 42,
   "metadata": {},
   "outputs": [],
   "source": [
    "# minmax data\n",
    "train_minmax['배기량PCA'] = pca4.transform(train_minmax[['배기량','연간 자동차세','지방교육세','총 자동차세']])\n",
    "train_minmax.drop(['배기량','연간 자동차세','지방교육세','총 자동차세'],axis=1,inplace=True)\n",
    "\n",
    "test_minmax['배기량PCA'] = pca4.transform(test_minmax[['배기량','연간 자동차세','지방교육세','총 자동차세']])\n",
    "test_minmax.drop(['배기량','연간 자동차세','지방교육세','총 자동차세'],axis=1,inplace=True)"
   ]
  },
  {
   "cell_type": "code",
   "execution_count": 43,
   "metadata": {},
   "outputs": [],
   "source": [
    "tr_minmax, val_minmax, tr_minmax_y, val_minmax_y = train_test_split(train_minmax, train_y, test_size=.15, random_state=42)"
   ]
  },
  {
   "cell_type": "code",
   "execution_count": 44,
   "metadata": {},
   "outputs": [
    {
     "name": "stdout",
     "output_type": "stream",
     "text": [
      "train data 개수 : 48823개\n",
      "val data 개수 : 8616개\n",
      "test data 개수 : 14480개\n"
     ]
    }
   ],
   "source": [
    "print(f'train data 개수 : {len(tr_minmax)}개')\n",
    "print(f'val data 개수 : {len(val_minmax)}개')\n",
    "print(f'test data 개수 : {len(test_minmax)}개')"
   ]
  },
  {
   "cell_type": "code",
   "execution_count": 45,
   "metadata": {},
   "outputs": [
    {
     "name": "stdout",
     "output_type": "stream",
     "text": [
      "[1000]\ttraining's l1: 4.95784\tvalid_1's l1: 6.09361\n",
      "[2000]\ttraining's l1: 4.53157\tvalid_1's l1: 6.0243\n",
      "[3000]\ttraining's l1: 4.31379\tvalid_1's l1: 6.00586\n",
      "[4000]\ttraining's l1: 4.19515\tvalid_1's l1: 5.99953\n",
      "[5000]\ttraining's l1: 4.03382\tvalid_1's l1: 5.984\n",
      "[6000]\ttraining's l1: 3.95769\tvalid_1's l1: 5.98322\n",
      "[7000]\ttraining's l1: 3.91586\tvalid_1's l1: 5.98183\n",
      "[8000]\ttraining's l1: 3.85407\tvalid_1's l1: 5.97995\n",
      "[9000]\ttraining's l1: 3.787\tvalid_1's l1: 5.97957\n"
     ]
    },
    {
     "data": {
      "text/html": [
       "<style>#sk-container-id-1 {color: black;background-color: white;}#sk-container-id-1 pre{padding: 0;}#sk-container-id-1 div.sk-toggleable {background-color: white;}#sk-container-id-1 label.sk-toggleable__label {cursor: pointer;display: block;width: 100%;margin-bottom: 0;padding: 0.3em;box-sizing: border-box;text-align: center;}#sk-container-id-1 label.sk-toggleable__label-arrow:before {content: \"▸\";float: left;margin-right: 0.25em;color: #696969;}#sk-container-id-1 label.sk-toggleable__label-arrow:hover:before {color: black;}#sk-container-id-1 div.sk-estimator:hover label.sk-toggleable__label-arrow:before {color: black;}#sk-container-id-1 div.sk-toggleable__content {max-height: 0;max-width: 0;overflow: hidden;text-align: left;background-color: #f0f8ff;}#sk-container-id-1 div.sk-toggleable__content pre {margin: 0.2em;color: black;border-radius: 0.25em;background-color: #f0f8ff;}#sk-container-id-1 input.sk-toggleable__control:checked~div.sk-toggleable__content {max-height: 200px;max-width: 100%;overflow: auto;}#sk-container-id-1 input.sk-toggleable__control:checked~label.sk-toggleable__label-arrow:before {content: \"▾\";}#sk-container-id-1 div.sk-estimator input.sk-toggleable__control:checked~label.sk-toggleable__label {background-color: #d4ebff;}#sk-container-id-1 div.sk-label input.sk-toggleable__control:checked~label.sk-toggleable__label {background-color: #d4ebff;}#sk-container-id-1 input.sk-hidden--visually {border: 0;clip: rect(1px 1px 1px 1px);clip: rect(1px, 1px, 1px, 1px);height: 1px;margin: -1px;overflow: hidden;padding: 0;position: absolute;width: 1px;}#sk-container-id-1 div.sk-estimator {font-family: monospace;background-color: #f0f8ff;border: 1px dotted black;border-radius: 0.25em;box-sizing: border-box;margin-bottom: 0.5em;}#sk-container-id-1 div.sk-estimator:hover {background-color: #d4ebff;}#sk-container-id-1 div.sk-parallel-item::after {content: \"\";width: 100%;border-bottom: 1px solid gray;flex-grow: 1;}#sk-container-id-1 div.sk-label:hover label.sk-toggleable__label {background-color: #d4ebff;}#sk-container-id-1 div.sk-serial::before {content: \"\";position: absolute;border-left: 1px solid gray;box-sizing: border-box;top: 0;bottom: 0;left: 50%;z-index: 0;}#sk-container-id-1 div.sk-serial {display: flex;flex-direction: column;align-items: center;background-color: white;padding-right: 0.2em;padding-left: 0.2em;position: relative;}#sk-container-id-1 div.sk-item {position: relative;z-index: 1;}#sk-container-id-1 div.sk-parallel {display: flex;align-items: stretch;justify-content: center;background-color: white;position: relative;}#sk-container-id-1 div.sk-item::before, #sk-container-id-1 div.sk-parallel-item::before {content: \"\";position: absolute;border-left: 1px solid gray;box-sizing: border-box;top: 0;bottom: 0;left: 50%;z-index: -1;}#sk-container-id-1 div.sk-parallel-item {display: flex;flex-direction: column;z-index: 1;position: relative;background-color: white;}#sk-container-id-1 div.sk-parallel-item:first-child::after {align-self: flex-end;width: 50%;}#sk-container-id-1 div.sk-parallel-item:last-child::after {align-self: flex-start;width: 50%;}#sk-container-id-1 div.sk-parallel-item:only-child::after {width: 0;}#sk-container-id-1 div.sk-dashed-wrapped {border: 1px dashed gray;margin: 0 0.4em 0.5em 0.4em;box-sizing: border-box;padding-bottom: 0.4em;background-color: white;}#sk-container-id-1 div.sk-label label {font-family: monospace;font-weight: bold;display: inline-block;line-height: 1.2em;}#sk-container-id-1 div.sk-label-container {text-align: center;}#sk-container-id-1 div.sk-container {/* jupyter's `normalize.less` sets `[hidden] { display: none; }` but bootstrap.min.css set `[hidden] { display: none !important; }` so we also need the `!important` here to be able to override the default hidden behavior on the sphinx rendered scikit-learn.org. See: https://github.com/scikit-learn/scikit-learn/issues/21755 */display: inline-block !important;position: relative;}#sk-container-id-1 div.sk-text-repr-fallback {display: none;}</style><div id=\"sk-container-id-1\" class=\"sk-top-container\"><div class=\"sk-text-repr-fallback\"><pre>LGBMRegressor(learning_rate=0.01, max_depth=11, metric=&#x27;mae&#x27;,\n",
       "              n_estimators=20000, num_leaves=255, objective=&#x27;mae&#x27;,\n",
       "              random_state=42, reg_alpha=0.5, reg_lambda=0.05)</pre><b>In a Jupyter environment, please rerun this cell to show the HTML representation or trust the notebook. <br />On GitHub, the HTML representation is unable to render, please try loading this page with nbviewer.org.</b></div><div class=\"sk-container\" hidden><div class=\"sk-item\"><div class=\"sk-estimator sk-toggleable\"><input class=\"sk-toggleable__control sk-hidden--visually\" id=\"sk-estimator-id-1\" type=\"checkbox\" checked><label for=\"sk-estimator-id-1\" class=\"sk-toggleable__label sk-toggleable__label-arrow\">LGBMRegressor</label><div class=\"sk-toggleable__content\"><pre>LGBMRegressor(learning_rate=0.01, max_depth=11, metric=&#x27;mae&#x27;,\n",
       "              n_estimators=20000, num_leaves=255, objective=&#x27;mae&#x27;,\n",
       "              random_state=42, reg_alpha=0.5, reg_lambda=0.05)</pre></div></div></div></div></div>"
      ],
      "text/plain": [
       "LGBMRegressor(learning_rate=0.01, max_depth=11, metric='mae',\n",
       "              n_estimators=20000, num_leaves=255, objective='mae',\n",
       "              random_state=42, reg_alpha=0.5, reg_lambda=0.05)"
      ]
     },
     "execution_count": 45,
     "metadata": {},
     "output_type": "execute_result"
    }
   ],
   "source": [
    "# lgbm 최종\n",
    "model1 = lgbm(objective='mae', metric='mae', n_estimators=20000, random_state=42,\n",
    "             max_depth=11, num_leaves=255, learning_rate=0.01, reg_alpha=.5, reg_lambda=.05) # , subsample=.4\n",
    "model1.fit(tr_minmax, tr_minmax_y, eval_set=[(tr_minmax, tr_minmax_y),(val_minmax, val_minmax_y)], early_stopping_rounds=1000, verbose=1000)"
   ]
  },
  {
   "cell_type": "code",
   "execution_count": 46,
   "metadata": {},
   "outputs": [
    {
     "data": {
      "text/plain": [
       "5.979142903400021"
      ]
     },
     "execution_count": 46,
     "metadata": {},
     "output_type": "execute_result"
    }
   ],
   "source": [
    "mae(val_minmax_y, model1.predict(val_minmax))"
   ]
  },
  {
   "cell_type": "code",
   "execution_count": 48,
   "metadata": {},
   "outputs": [
    {
     "name": "stdout",
     "output_type": "stream",
     "text": [
      "[0]\tvalidation_0-mae:53.09252\tvalidation_1-mae:52.96561\n",
      "[1000]\tvalidation_0-mae:45.09242\tvalidation_1-mae:45.13468\n",
      "[2000]\tvalidation_0-mae:37.45220\tvalidation_1-mae:37.67545\n",
      "[3000]\tvalidation_0-mae:30.35059\tvalidation_1-mae:30.74095\n",
      "[4000]\tvalidation_0-mae:23.83506\tvalidation_1-mae:24.36053\n",
      "[5000]\tvalidation_0-mae:18.00094\tvalidation_1-mae:18.65116\n",
      "[6000]\tvalidation_0-mae:13.05123\tvalidation_1-mae:13.84022\n",
      "[7000]\tvalidation_0-mae:9.21517\tvalidation_1-mae:10.15293\n",
      "[8000]\tvalidation_0-mae:6.75912\tvalidation_1-mae:7.85692\n",
      "[9000]\tvalidation_0-mae:5.48442\tvalidation_1-mae:6.74112\n",
      "[10000]\tvalidation_0-mae:4.93332\tvalidation_1-mae:6.31983\n",
      "[11000]\tvalidation_0-mae:4.67766\tvalidation_1-mae:6.16496\n",
      "[12000]\tvalidation_0-mae:4.53393\tvalidation_1-mae:6.10438\n",
      "[13000]\tvalidation_0-mae:4.42731\tvalidation_1-mae:6.07086\n",
      "[14000]\tvalidation_0-mae:4.33991\tvalidation_1-mae:6.04981\n",
      "[15000]\tvalidation_0-mae:4.26608\tvalidation_1-mae:6.03302\n",
      "[16000]\tvalidation_0-mae:4.20226\tvalidation_1-mae:6.02057\n",
      "[17000]\tvalidation_0-mae:4.14750\tvalidation_1-mae:6.01104\n",
      "[18000]\tvalidation_0-mae:4.09824\tvalidation_1-mae:6.00267\n",
      "[19000]\tvalidation_0-mae:4.05294\tvalidation_1-mae:5.99527\n",
      "[20000]\tvalidation_0-mae:4.01174\tvalidation_1-mae:5.98957\n",
      "[21000]\tvalidation_0-mae:3.97414\tvalidation_1-mae:5.98405\n",
      "[22000]\tvalidation_0-mae:3.93798\tvalidation_1-mae:5.97886\n",
      "[23000]\tvalidation_0-mae:3.90325\tvalidation_1-mae:5.97449\n",
      "[24000]\tvalidation_0-mae:3.87102\tvalidation_1-mae:5.96998\n",
      "[25000]\tvalidation_0-mae:3.83939\tvalidation_1-mae:5.96638\n",
      "[26000]\tvalidation_0-mae:3.80899\tvalidation_1-mae:5.96309\n",
      "[27000]\tvalidation_0-mae:3.77962\tvalidation_1-mae:5.95995\n",
      "[28000]\tvalidation_0-mae:3.75218\tvalidation_1-mae:5.95715\n",
      "[29000]\tvalidation_0-mae:3.72552\tvalidation_1-mae:5.95458\n",
      "[30000]\tvalidation_0-mae:3.69914\tvalidation_1-mae:5.95275\n",
      "[31000]\tvalidation_0-mae:3.67454\tvalidation_1-mae:5.95147\n",
      "[32000]\tvalidation_0-mae:3.65073\tvalidation_1-mae:5.95013\n",
      "[33000]\tvalidation_0-mae:3.62805\tvalidation_1-mae:5.94844\n",
      "[34000]\tvalidation_0-mae:3.60570\tvalidation_1-mae:5.94698\n",
      "[35000]\tvalidation_0-mae:3.58509\tvalidation_1-mae:5.94586\n",
      "[36000]\tvalidation_0-mae:3.56387\tvalidation_1-mae:5.94499\n",
      "[37000]\tvalidation_0-mae:3.54364\tvalidation_1-mae:5.94467\n",
      "[38000]\tvalidation_0-mae:3.52398\tvalidation_1-mae:5.94435\n",
      "[39000]\tvalidation_0-mae:3.50474\tvalidation_1-mae:5.94367\n",
      "[40000]\tvalidation_0-mae:3.48609\tvalidation_1-mae:5.94378\n",
      "[40355]\tvalidation_0-mae:3.47971\tvalidation_1-mae:5.94369\n"
     ]
    },
    {
     "data": {
      "text/html": [
       "<style>#sk-container-id-2 {color: black;background-color: white;}#sk-container-id-2 pre{padding: 0;}#sk-container-id-2 div.sk-toggleable {background-color: white;}#sk-container-id-2 label.sk-toggleable__label {cursor: pointer;display: block;width: 100%;margin-bottom: 0;padding: 0.3em;box-sizing: border-box;text-align: center;}#sk-container-id-2 label.sk-toggleable__label-arrow:before {content: \"▸\";float: left;margin-right: 0.25em;color: #696969;}#sk-container-id-2 label.sk-toggleable__label-arrow:hover:before {color: black;}#sk-container-id-2 div.sk-estimator:hover label.sk-toggleable__label-arrow:before {color: black;}#sk-container-id-2 div.sk-toggleable__content {max-height: 0;max-width: 0;overflow: hidden;text-align: left;background-color: #f0f8ff;}#sk-container-id-2 div.sk-toggleable__content pre {margin: 0.2em;color: black;border-radius: 0.25em;background-color: #f0f8ff;}#sk-container-id-2 input.sk-toggleable__control:checked~div.sk-toggleable__content {max-height: 200px;max-width: 100%;overflow: auto;}#sk-container-id-2 input.sk-toggleable__control:checked~label.sk-toggleable__label-arrow:before {content: \"▾\";}#sk-container-id-2 div.sk-estimator input.sk-toggleable__control:checked~label.sk-toggleable__label {background-color: #d4ebff;}#sk-container-id-2 div.sk-label input.sk-toggleable__control:checked~label.sk-toggleable__label {background-color: #d4ebff;}#sk-container-id-2 input.sk-hidden--visually {border: 0;clip: rect(1px 1px 1px 1px);clip: rect(1px, 1px, 1px, 1px);height: 1px;margin: -1px;overflow: hidden;padding: 0;position: absolute;width: 1px;}#sk-container-id-2 div.sk-estimator {font-family: monospace;background-color: #f0f8ff;border: 1px dotted black;border-radius: 0.25em;box-sizing: border-box;margin-bottom: 0.5em;}#sk-container-id-2 div.sk-estimator:hover {background-color: #d4ebff;}#sk-container-id-2 div.sk-parallel-item::after {content: \"\";width: 100%;border-bottom: 1px solid gray;flex-grow: 1;}#sk-container-id-2 div.sk-label:hover label.sk-toggleable__label {background-color: #d4ebff;}#sk-container-id-2 div.sk-serial::before {content: \"\";position: absolute;border-left: 1px solid gray;box-sizing: border-box;top: 0;bottom: 0;left: 50%;z-index: 0;}#sk-container-id-2 div.sk-serial {display: flex;flex-direction: column;align-items: center;background-color: white;padding-right: 0.2em;padding-left: 0.2em;position: relative;}#sk-container-id-2 div.sk-item {position: relative;z-index: 1;}#sk-container-id-2 div.sk-parallel {display: flex;align-items: stretch;justify-content: center;background-color: white;position: relative;}#sk-container-id-2 div.sk-item::before, #sk-container-id-2 div.sk-parallel-item::before {content: \"\";position: absolute;border-left: 1px solid gray;box-sizing: border-box;top: 0;bottom: 0;left: 50%;z-index: -1;}#sk-container-id-2 div.sk-parallel-item {display: flex;flex-direction: column;z-index: 1;position: relative;background-color: white;}#sk-container-id-2 div.sk-parallel-item:first-child::after {align-self: flex-end;width: 50%;}#sk-container-id-2 div.sk-parallel-item:last-child::after {align-self: flex-start;width: 50%;}#sk-container-id-2 div.sk-parallel-item:only-child::after {width: 0;}#sk-container-id-2 div.sk-dashed-wrapped {border: 1px dashed gray;margin: 0 0.4em 0.5em 0.4em;box-sizing: border-box;padding-bottom: 0.4em;background-color: white;}#sk-container-id-2 div.sk-label label {font-family: monospace;font-weight: bold;display: inline-block;line-height: 1.2em;}#sk-container-id-2 div.sk-label-container {text-align: center;}#sk-container-id-2 div.sk-container {/* jupyter's `normalize.less` sets `[hidden] { display: none; }` but bootstrap.min.css set `[hidden] { display: none !important; }` so we also need the `!important` here to be able to override the default hidden behavior on the sphinx rendered scikit-learn.org. See: https://github.com/scikit-learn/scikit-learn/issues/21755 */display: inline-block !important;position: relative;}#sk-container-id-2 div.sk-text-repr-fallback {display: none;}</style><div id=\"sk-container-id-2\" class=\"sk-top-container\"><div class=\"sk-text-repr-fallback\"><pre>XGBRegressor(base_score=100, booster=None, callbacks=None,\n",
       "             colsample_bylevel=None, colsample_bynode=None,\n",
       "             colsample_bytree=0.5, early_stopping_rounds=None,\n",
       "             enable_categorical=False, eval_metric=&#x27;mae&#x27;, feature_types=None,\n",
       "             gamma=0.6, gpu_id=None, grow_policy=None, importance_type=None,\n",
       "             interaction_constraints=None, learning_rate=0.01, max_bin=None,\n",
       "             max_cat_threshold=None, max_cat_to_onehot=None,\n",
       "             max_delta_step=None, max_depth=10, max_leaves=None,\n",
       "             min_child_weight=10, missing=nan, monotone_constraints=None,\n",
       "             n_estimators=90000, n_jobs=None, num_parallel_tree=None,\n",
       "             objective=&#x27;reg:absoluteerror&#x27;, predictor=None, ...)</pre><b>In a Jupyter environment, please rerun this cell to show the HTML representation or trust the notebook. <br />On GitHub, the HTML representation is unable to render, please try loading this page with nbviewer.org.</b></div><div class=\"sk-container\" hidden><div class=\"sk-item\"><div class=\"sk-estimator sk-toggleable\"><input class=\"sk-toggleable__control sk-hidden--visually\" id=\"sk-estimator-id-2\" type=\"checkbox\" checked><label for=\"sk-estimator-id-2\" class=\"sk-toggleable__label sk-toggleable__label-arrow\">XGBRegressor</label><div class=\"sk-toggleable__content\"><pre>XGBRegressor(base_score=100, booster=None, callbacks=None,\n",
       "             colsample_bylevel=None, colsample_bynode=None,\n",
       "             colsample_bytree=0.5, early_stopping_rounds=None,\n",
       "             enable_categorical=False, eval_metric=&#x27;mae&#x27;, feature_types=None,\n",
       "             gamma=0.6, gpu_id=None, grow_policy=None, importance_type=None,\n",
       "             interaction_constraints=None, learning_rate=0.01, max_bin=None,\n",
       "             max_cat_threshold=None, max_cat_to_onehot=None,\n",
       "             max_delta_step=None, max_depth=10, max_leaves=None,\n",
       "             min_child_weight=10, missing=nan, monotone_constraints=None,\n",
       "             n_estimators=90000, n_jobs=None, num_parallel_tree=None,\n",
       "             objective=&#x27;reg:absoluteerror&#x27;, predictor=None, ...)</pre></div></div></div></div></div>"
      ],
      "text/plain": [
       "XGBRegressor(base_score=100, booster=None, callbacks=None,\n",
       "             colsample_bylevel=None, colsample_bynode=None,\n",
       "             colsample_bytree=0.5, early_stopping_rounds=None,\n",
       "             enable_categorical=False, eval_metric='mae', feature_types=None,\n",
       "             gamma=0.6, gpu_id=None, grow_policy=None, importance_type=None,\n",
       "             interaction_constraints=None, learning_rate=0.01, max_bin=None,\n",
       "             max_cat_threshold=None, max_cat_to_onehot=None,\n",
       "             max_delta_step=None, max_depth=10, max_leaves=None,\n",
       "             min_child_weight=10, missing=nan, monotone_constraints=None,\n",
       "             n_estimators=90000, n_jobs=None, num_parallel_tree=None,\n",
       "             objective='reg:absoluteerror', predictor=None, ...)"
      ]
     },
     "execution_count": 48,
     "metadata": {},
     "output_type": "execute_result"
    }
   ],
   "source": [
    "# XGBoost\n",
    "model_xgb = xgb(\n",
    "    objective='reg:absoluteerror', eval_metric='mae', random_state=42, n_estimators=90000,\n",
    "    max_depth=10, learning_rate=0.01, gamma=0.6, subsample=0.8, reg_alpha=1, reg_lambda=0.05,\n",
    "    colsample_bytree=0.5, min_child_weight=10, base_score=100\n",
    "    )\n",
    "model_xgb.fit(tr_minmax, tr_minmax_y, eval_set=[(tr_minmax, tr_minmax_y),(val_minmax, val_minmax_y)], early_stopping_rounds=1000, verbose=1000)"
   ]
  },
  {
   "cell_type": "code",
   "execution_count": 52,
   "metadata": {},
   "outputs": [
    {
     "name": "stdout",
     "output_type": "stream",
     "text": [
      "0:\tlearn: 27.3327744\ttest: 27.2894518\tbest: 27.2894518 (0)\ttotal: 16.9ms\tremaining: 25m 20s\n",
      "1000:\tlearn: 6.3139803\ttest: 6.6564278\tbest: 6.6564278 (1000)\ttotal: 11.7s\tremaining: 17m 17s\n",
      "2000:\tlearn: 5.7393906\ttest: 6.2444370\tbest: 6.2444370 (2000)\ttotal: 22.8s\tremaining: 16m 43s\n",
      "3000:\tlearn: 5.4607088\ttest: 6.1135599\tbest: 6.1135599 (3000)\ttotal: 34.1s\tremaining: 16m 27s\n",
      "4000:\tlearn: 5.2888783\ttest: 6.0538359\tbest: 6.0538359 (4000)\ttotal: 45.6s\tremaining: 16m 19s\n",
      "5000:\tlearn: 5.1614214\ttest: 6.0216195\tbest: 6.0213936 (4977)\ttotal: 56.7s\tremaining: 16m 4s\n",
      "6000:\tlearn: 5.0638578\ttest: 6.0024434\tbest: 6.0023131 (5998)\ttotal: 1m 8s\tremaining: 15m 52s\n",
      "7000:\tlearn: 4.9926605\ttest: 5.9878083\tbest: 5.9877080 (6997)\ttotal: 1m 19s\tremaining: 15m 39s\n",
      "8000:\tlearn: 4.9266702\ttest: 5.9793868\tbest: 5.9793257 (7987)\ttotal: 1m 30s\tremaining: 15m 31s\n",
      "9000:\tlearn: 4.8746906\ttest: 5.9713096\tbest: 5.9712997 (8999)\ttotal: 1m 42s\tremaining: 15m 19s\n",
      "10000:\tlearn: 4.8286828\ttest: 5.9639203\tbest: 5.9637955 (9992)\ttotal: 1m 53s\tremaining: 15m 8s\n",
      "11000:\tlearn: 4.7894246\ttest: 5.9602767\tbest: 5.9601723 (10989)\ttotal: 2m 4s\tremaining: 14m 57s\n",
      "12000:\tlearn: 4.7539030\ttest: 5.9564682\tbest: 5.9564682 (12000)\ttotal: 2m 16s\tremaining: 14m 46s\n",
      "13000:\tlearn: 4.7196095\ttest: 5.9520979\tbest: 5.9519468 (12972)\ttotal: 2m 27s\tremaining: 14m 34s\n",
      "14000:\tlearn: 4.6888724\ttest: 5.9488171\tbest: 5.9485931 (13860)\ttotal: 2m 39s\tremaining: 14m 24s\n",
      "15000:\tlearn: 4.6606988\ttest: 5.9451086\tbest: 5.9449932 (14957)\ttotal: 2m 50s\tremaining: 14m 13s\n",
      "16000:\tlearn: 4.6338197\ttest: 5.9416285\tbest: 5.9416262 (15999)\ttotal: 3m 2s\tremaining: 14m 2s\n",
      "17000:\tlearn: 4.6122546\ttest: 5.9394188\tbest: 5.9390539 (16940)\ttotal: 3m 13s\tremaining: 13m 52s\n",
      "18000:\tlearn: 4.5914954\ttest: 5.9378511\tbest: 5.9378076 (17994)\ttotal: 3m 25s\tremaining: 13m 40s\n",
      "19000:\tlearn: 4.5724055\ttest: 5.9361461\tbest: 5.9360216 (18992)\ttotal: 3m 37s\tremaining: 13m 30s\n",
      "20000:\tlearn: 4.5527051\ttest: 5.9337876\tbest: 5.9336241 (19951)\ttotal: 3m 48s\tremaining: 13m 20s\n",
      "21000:\tlearn: 4.5356419\ttest: 5.9329868\tbest: 5.9328559 (20978)\ttotal: 3m 59s\tremaining: 13m 7s\n",
      "22000:\tlearn: 4.5180190\ttest: 5.9309146\tbest: 5.9309146 (22000)\ttotal: 4m 11s\tremaining: 12m 56s\n",
      "23000:\tlearn: 4.4993800\ttest: 5.9301602\tbest: 5.9299401 (22928)\ttotal: 4m 22s\tremaining: 12m 45s\n",
      "24000:\tlearn: 4.4842603\ttest: 5.9299087\tbest: 5.9291910 (23684)\ttotal: 4m 34s\tremaining: 12m 33s\n",
      "Stopped by overfitting detector  (1000 iterations wait)\n",
      "\n",
      "bestTest = 5.92919099\n",
      "bestIteration = 23684\n",
      "\n",
      "Shrink model to first 23685 iterations.\n"
     ]
    },
    {
     "data": {
      "text/plain": [
       "<catboost.core.CatBoostRegressor at 0x1cf2dfbca90>"
      ]
     },
     "execution_count": 52,
     "metadata": {},
     "output_type": "execute_result"
    }
   ],
   "source": [
    "# CAT = cat(loss_function='MAE', eval_metric='MAE', iterations=30000, random_state=42, max_depth=6, task='GPU')\n",
    "CAT = cat(loss_function='MAE', eval_metric='MAE', iterations=90000, random_state=42, max_depth=6, learning_rate=.03)\n",
    "CAT.fit(tr_minmax, tr_minmax_y, eval_set=(val_minmax, val_minmax_y), use_best_model=True, early_stopping_rounds=1000, verbose=1000)"
   ]
  },
  {
   "cell_type": "code",
   "execution_count": null,
   "metadata": {},
   "outputs": [],
   "source": []
  }
 ],
 "metadata": {
  "kernelspec": {
   "display_name": "car_jhs",
   "language": "python",
   "name": "python3"
  },
  "language_info": {
   "codemirror_mode": {
    "name": "ipython",
    "version": 3
   },
   "file_extension": ".py",
   "mimetype": "text/x-python",
   "name": "python",
   "nbconvert_exporter": "python",
   "pygments_lexer": "ipython3",
   "version": "3.10.11"
  },
  "orig_nbformat": 4
 },
 "nbformat": 4,
 "nbformat_minor": 2
}
